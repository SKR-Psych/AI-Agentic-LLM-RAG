{
 "cells": [
  {
   "cell_type": "markdown",
   "id": "bc35ecbf",
   "metadata": {},
   "source": [
    "# 🧠 Reasoning Flow Test\n",
    "\n",
    "This notebook simulates a basic thought process using the `ReasoningEngine` from `ai_agentic_core`.  \n",
    "We're exploring how the system stores and retrieves a chain of thoughts based on prompts.\n"
   ]
  },
  {
   "cell_type": "code",
   "execution_count": null,
   "id": "39980500",
   "metadata": {
    "vscode": {
     "languageId": "plaintext"
    }
   },
   "outputs": [],
   "source": [
    "from ai_agentic_core.reasoning_engine import ReasoningEngine\n",
    "\n",
    "engine = ReasoningEngine()\n",
    "\n",
    "response = engine.think(\"What is the purpose of existence?\")\n",
    "print(\"Agent Response:\", response)\n"
   ]
  },
  {
   "cell_type": "code",
   "execution_count": null,
   "id": "78b43e63",
   "metadata": {
    "vscode": {
     "languageId": "plaintext"
    }
   },
   "outputs": [],
   "source": [
    "# View internal memory trace of all prompts processed so far\n",
    "engine.get_history()\n"
   ]
  }
 ],
 "metadata": {
  "language_info": {
   "name": "python"
  }
 },
 "nbformat": 4,
 "nbformat_minor": 5
}
